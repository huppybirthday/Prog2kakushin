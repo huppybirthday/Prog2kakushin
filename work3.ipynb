{
  "nbformat": 4,
  "nbformat_minor": 0,
  "metadata": {
    "colab": {
      "provenance": [],
      "authorship_tag": "ABX9TyMHpaYSTthqmcK5ZnCT1ubt",
      "include_colab_link": true
    },
    "kernelspec": {
      "name": "python3",
      "display_name": "Python 3"
    },
    "language_info": {
      "name": "python"
    }
  },
  "cells": [
    {
      "cell_type": "markdown",
      "metadata": {
        "id": "view-in-github",
        "colab_type": "text"
      },
      "source": [
        "<a href=\"https://colab.research.google.com/github/huppybirthday/Prog2kakushin/blob/main/work3.ipynb\" target=\"_parent\"><img src=\"https://colab.research.google.com/assets/colab-badge.svg\" alt=\"Open In Colab\"/></a>"
      ]
    },
    {
      "cell_type": "markdown",
      "source": [
        "画像を使ってスライドパズル"
      ],
      "metadata": {
        "id": "ZN34ze0crlqP"
      }
    },
    {
      "cell_type": "code",
      "source": [
        "#このセルでインポート\n",
        "import numpy as np\n",
        "import sys\n",
        "import cv2\n",
        "from google.colab.patches import cv2_imshow"
      ],
      "metadata": {
        "id": "vxIoSJU3ZBeX"
      },
      "execution_count": null,
      "outputs": []
    },
    {
      "cell_type": "code",
      "source": [
        "#画像を読み込む\n",
        "!wget \"https://drive.google.com/uc?export=download&id=1hsUauww6HMD9YMejBh72as9x9wNCWeBc\" -O images.zip\n",
        "!unzip -o images.zip"
      ],
      "metadata": {
        "colab": {
          "base_uri": "https://localhost:8080/"
        },
        "id": "0z3hZyG5ZX8w",
        "outputId": "1c5e8f47-6846-4845-d17b-9b451adee8b6"
      },
      "execution_count": null,
      "outputs": [
        {
          "output_type": "stream",
          "name": "stdout",
          "text": [
            "--2023-01-19 08:00:03--  https://drive.google.com/uc?export=download&id=1hsUauww6HMD9YMejBh72as9x9wNCWeBc\n",
            "Resolving drive.google.com (drive.google.com)... 142.251.2.139, 142.251.2.102, 142.251.2.100, ...\n",
            "Connecting to drive.google.com (drive.google.com)|142.251.2.139|:443... connected.\n",
            "HTTP request sent, awaiting response... 303 See Other\n",
            "Location: https://doc-04-0o-docs.googleusercontent.com/docs/securesc/ha0ro937gcuc7l7deffksulhg5h7mbp1/0en0lg0aa9a39nrt8s0vfbvcvrs6qi8v/1674115200000/05465361039627264646/*/1hsUauww6HMD9YMejBh72as9x9wNCWeBc?e=download&uuid=893b47da-efae-420c-b32a-980d293dc2d6 [following]\n",
            "Warning: wildcards not supported in HTTP.\n",
            "--2023-01-19 08:00:04--  https://doc-04-0o-docs.googleusercontent.com/docs/securesc/ha0ro937gcuc7l7deffksulhg5h7mbp1/0en0lg0aa9a39nrt8s0vfbvcvrs6qi8v/1674115200000/05465361039627264646/*/1hsUauww6HMD9YMejBh72as9x9wNCWeBc?e=download&uuid=893b47da-efae-420c-b32a-980d293dc2d6\n",
            "Resolving doc-04-0o-docs.googleusercontent.com (doc-04-0o-docs.googleusercontent.com)... 142.250.141.132, 2607:f8b0:4023:c0b::84\n",
            "Connecting to doc-04-0o-docs.googleusercontent.com (doc-04-0o-docs.googleusercontent.com)|142.250.141.132|:443... connected.\n",
            "HTTP request sent, awaiting response... 200 OK\n",
            "Length: 391994 (383K) [application/x-zip-compressed]\n",
            "Saving to: ‘images.zip’\n",
            "\n",
            "images.zip          100%[===================>] 382.81K  --.-KB/s    in 0.004s  \n",
            "\n",
            "2023-01-19 08:00:04 (91.5 MB/s) - ‘images.zip’ saved [391994/391994]\n",
            "\n",
            "Archive:  images.zip\n",
            " extracting: canal.jpg               \n",
            " extracting: desert.jpg              \n",
            " extracting: dog.jpg                 \n",
            " extracting: eagle.jpg               \n",
            " extracting: eagle_gray.jpg          \n",
            " extracting: flower.jpg              \n",
            " extracting: foods/green_pepper.jpg  \n",
            " extracting: foods/tomato/tomato01.jpg  \n",
            " extracting: foods/tomato/tomato02.jpg  \n",
            " extracting: fox.jpg                 \n",
            " extracting: ichidai.jpg             \n",
            " extracting: library.jpg             \n",
            " extracting: parrot.jpg              \n",
            " extracting: tools/driver.jpg        \n",
            " extracting: tools/nut.jpg           \n",
            " extracting: turtle.jpg              \n"
          ]
        }
      ]
    },
    {
      "cell_type": "code",
      "source": [
        "# 画像ファイルを読み込み，画像オブジェクトを作成して，変数 img に代入\n",
        "img = cv2.imread('canal.jpg')\n",
        "\n",
        "# エラー処理: 画像ファイルの読み込みが失敗の場合は，プログラム終了\n",
        "if img is None:\n",
        "  sys.exit('エラー: ファイルを開けませんでした')"
      ],
      "metadata": {
        "id": "xdTgVJhHZ0s5"
      },
      "execution_count": null,
      "outputs": []
    },
    {
      "cell_type": "code",
      "source": [
        "#難易度×難易度マスを生成\n",
        "dif = int(input(\"難易度：\"))\n",
        "\n",
        "#縦と横を自然数に調整する処理\n",
        "tate = img.shape[0] \n",
        "yoko = img.shape[1] \n",
        "\n",
        "if tate % dif != 0:\n",
        "  tate = int(tate/dif)*dif\n",
        "if yoko % dif != 0:\n",
        "  yoko = int(yoko/dif)*dif\n",
        "\n",
        "img = img[0:tate,0:yoko]\n",
        "#print(tate,yoko)\n",
        "\n",
        "#設定難易度ごとにマスの座標をリストに格納する処理\n",
        "za_li = []\n",
        "for i in range(dif):\n",
        "  y = i*(tate/dif)\n",
        "  for i2 in range(dif):\n",
        "    x = i2 * (yoko/dif)\n",
        "    za_li.append([int(y),int(x)])\n",
        "\n",
        "#print(za_li)\n",
        "\n",
        "#マスごとの画像に番号をつけ、リストに格納\n",
        "num_li2 = []\n",
        "for i in range(dif**2):\n",
        "  num_li2.append(i)\n",
        "\n",
        "for i in num_li2:\n",
        "  exec(\"im{} = img[za_li[i][0]: za_li[i][0] + int(tate/dif) , za_li[i][1]: za_li[i][1] + int(yoko/dif)]\".format(i))\n",
        "\n",
        "im_li = []\n",
        "for i in range(len(num_li2)):\n",
        "  exec(\"im_li.append(im{})\".format(i))"
      ],
      "metadata": {
        "id": "HRZ9E9UBl8kc",
        "colab": {
          "base_uri": "https://localhost:8080/"
        },
        "outputId": "33d8d9e9-03a4-459d-aa75-ed6185ac1a98"
      },
      "execution_count": null,
      "outputs": [
        {
          "name": "stdout",
          "output_type": "stream",
          "text": [
            "難易度：3\n"
          ]
        }
      ]
    },
    {
      "cell_type": "code",
      "source": [
        "import random\n",
        "\n",
        "# Colab環境で img の画像を画面に表示\n",
        "cv2_imshow(img)\n",
        "print('')\n",
        "\n",
        "#画像の配置をランダムにする。完成不可能な配置なら可能な配置になるまでやり直す処理\n",
        "go_cou = 1\n",
        "del num_li2[-1]\n",
        "\n",
        "while go_cou % 2 == 1:\n",
        "  num_li2 = random.sample(num_li2,len(num_li2))\n",
        "  num_li = num_li2.copy()\n",
        "  #print(num_li)\n",
        "  go_cou = 0\n",
        "  for i in range(len(num_li2)):\n",
        "    if num_li2[i] != i:\n",
        "      num_li2[num_li2.index(i)] = num_li2[i]\n",
        "      num_li2[i] = i\n",
        "      go_cou += 1\n",
        "num_li.append(dif**2-1)\n",
        "#print(num_li)\n",
        "\n",
        "im_ran = []\n",
        "for i in num_li:\n",
        "  exec(\"im_ran.append(im{})\".format(i))\n",
        "\n",
        "\n",
        "last_im = im_ran[-1]\n",
        "last_num = num_li[-1]\n",
        "\n",
        "#画像を貼るための黒画像を生成\n",
        "bla = np.zeros((tate,yoko,3), np.uint8)\n",
        "bla_za = za_li[-1]\n",
        "\n",
        "#マスごとに画像を張り付ける\n",
        "for i in range(dif**2-1):\n",
        "  #cv2.imshow(im_li[i])\n",
        "  bla[za_li[i][0]: za_li[i][0] + int(tate/dif), za_li[i][1]: za_li[i][1] + int(yoko/dif)] = im_ran[i]\n",
        "\n",
        "\n",
        "#ここから実行中の処理\n",
        "import time\n",
        "bla_basho = dif**2\n",
        "count = 0\n",
        "print(\"座標は左上が1で右に数えて端まで行ったら下の行\")\n",
        "print(\"はじめは右下が空\")\n",
        "cv2_imshow(bla)\n",
        "\n",
        "time.sleep(1)\n",
        "while True:\n",
        "  n = int(input(\"動かしたい画像の座標を入力:\"))\n",
        "  #画像を入れ替える処理\n",
        "  if n == bla_basho+1 or n == bla_basho-1 or n == bla_basho+dif or n == bla_basho-dif:\n",
        "    im_ran[bla_basho-1] = im_ran[n-1]\n",
        "    im_ran[n-1] = last_im\n",
        "    num_li[bla_basho-1] = num_li[n-1]\n",
        "    num_li[n-1] = last_num\n",
        "    bla[za_li[bla_basho-1][0]:za_li[bla_basho-1][0] + int(tate/dif) , za_li[bla_basho-1][1]:za_li[bla_basho-1][1] + int(yoko/dif) ] = im_ran[bla_basho-1]\n",
        "\n",
        "    bla_basho = n\n",
        "    bla[za_li[bla_basho-1][0]:za_li[bla_basho-1][0] + int(tate/dif) , za_li[bla_basho-1][1]:za_li[bla_basho-1][1] + int(yoko/dif) ] = np.zeros((int(tate/dif),int(yoko/dif),3), np.uint8)\n",
        "    \n",
        "    cv2_imshow(bla)\n",
        "\n",
        "    #完成したときに終了する処理\n",
        "    #print(num_li)\n",
        "    cou = 0\n",
        "    for i in range(dif**2):\n",
        "      if num_li[i] == i:\n",
        "         cou+=1\n",
        "    if cou == dif**2:\n",
        "      bla[za_li[bla_basho-1][0]:za_li[bla_basho-1][0] + int(tate/dif) , za_li[bla_basho-1][1]:za_li[bla_basho-1][1] + int(yoko/dif) ] = im_ran[bla_basho-1]\n",
        "      print(\"great!\")\n",
        "      cv2_imshow(bla)\n",
        "      break\n",
        "    \n",
        "    time.sleep(1)"
      ],
      "metadata": {
        "id": "mas6Jlgux4MY"
      },
      "execution_count": null,
      "outputs": []
    }
  ]
}