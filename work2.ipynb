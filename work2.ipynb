{
  "nbformat": 4,
  "nbformat_minor": 0,
  "metadata": {
    "colab": {
      "provenance": [],
      "authorship_tag": "ABX9TyMi63r58gqfQcXGgtf+aywY",
      "include_colab_link": true
    },
    "kernelspec": {
      "name": "python3",
      "display_name": "Python 3"
    },
    "language_info": {
      "name": "python"
    }
  },
  "cells": [
    {
      "cell_type": "markdown",
      "metadata": {
        "id": "view-in-github",
        "colab_type": "text"
      },
      "source": [
        "<a href=\"https://colab.research.google.com/github/huppybirthday/Prog2kakushin/blob/main/work2.ipynb\" target=\"_parent\"><img src=\"https://colab.research.google.com/assets/colab-badge.svg\" alt=\"Open In Colab\"/></a>"
      ]
    },
    {
      "cell_type": "markdown",
      "source": [
        "好きな関数の、面積が求まる区間にランダムに点をたくさん取り、関数の上側、下側の点の比率から面積を概算するプログラム"
      ],
      "metadata": {
        "id": "CVuuV8N-rczp"
      }
    },
    {
      "cell_type": "code",
      "source": [
        "import numpy as np\n",
        "from matplotlib import pyplot as plt #matplotlibをインポート\n",
        "import random as ran"
      ],
      "metadata": {
        "id": "D6-N428yanTW"
      },
      "execution_count": 10,
      "outputs": []
    },
    {
      "cell_type": "code",
      "source": [
        "x = np.arange(0, 1.01, 0.01) \n",
        "\n",
        "def y(a):\n",
        "  y = np.sqrt(1-a**2)\n",
        "  return y\n",
        "\n",
        "max = np.max(y(x))\n",
        "min = np.min(y(x))\n",
        "\n",
        "max_ind = np.argmax(y(x))\n",
        "min_ind = np.argmin(y(x))"
      ],
      "metadata": {
        "id": "QU5yczf-awf9"
      },
      "execution_count": 90,
      "outputs": []
    },
    {
      "cell_type": "code",
      "source": [
        "plt.plot(x,y(x))\n",
        "plt.grid()#グリッド線の表示\n",
        "plt.axis('equal')\n",
        "plt.show()"
      ],
      "metadata": {
        "colab": {
          "base_uri": "https://localhost:8080/",
          "height": 265
        },
        "id": "FNbuYQ5dbriC",
        "outputId": "3b4eea41-5b3e-4050-aed4-e999b3892640"
      },
      "execution_count": 91,
      "outputs": [
        {
          "output_type": "display_data",
          "data": {
            "text/plain": [
              "<Figure size 432x288 with 1 Axes>"
            ],
            "image/png": "[encoded data removed]"
          },
          "metadata": {
            "needs_background": "light"
          }
        }
      ]
    },
    {
      "cell_type": "code",
      "source": [
        "n = 100000 #針の数\n",
        "down_num = 0 #下側の針カウンター\n",
        "\n",
        "n_arr = np.linspace(0,1,n)\n",
        "ran_arr = min + (max-min)*np.random.random(n) # Random float\n",
        "\n",
        "for i in range(n):\n",
        "  if y(n_arr[i]) > ran_arr[i]:\n",
        "    down_num += 1"
      ],
      "metadata": {
        "id": "8BqQxlqHb99G"
      },
      "execution_count": 92,
      "outputs": []
    },
    {
      "cell_type": "code",
      "source": [
        "sikaku_men = (max-min)\n",
        "menseki = sikaku_men * (down_num / n)\n",
        "print(menseki)"
      ],
      "metadata": {
        "colab": {
          "base_uri": "https://localhost:8080/"
        },
        "id": "tzEpR6h_gFau",
        "outputId": "30f89486-1499-4a0c-acc2-35367dd93df5"
      },
      "execution_count": 93,
      "outputs": [
        {
          "output_type": "stream",
          "name": "stdout",
          "text": [
            "0.78431\n"
          ]
        }
      ]
    }
  ]
}